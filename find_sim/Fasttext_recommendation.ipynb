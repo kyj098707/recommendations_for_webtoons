{
  "cells": [
    {
      "cell_type": "code",
      "execution_count": 1,
      "metadata": {
        "id": "YNITVHHdbLv2"
      },
      "outputs": [],
      "source": [
        "import pandas as pd\n",
        "import numpy as np"
      ]
    },
    {
      "cell_type": "code",
      "execution_count": 3,
      "metadata": {
        "id": "ypylxgJebLv-"
      },
      "outputs": [],
      "source": [
        "df = pd.read_csv('/content/info.csv', index_col = 0)\n",
        "df.drop(['data_path'], axis=1, inplace=True)"
      ]
    },
    {
      "cell_type": "markdown",
      "metadata": {
        "id": "eHpa_kgxbLwA"
      },
      "source": [
        "# 1. 전처리"
      ]
    },
    {
      "cell_type": "code",
      "execution_count": 6,
      "metadata": {
        "id": "3PxH3JupbLwC"
      },
      "outputs": [],
      "source": [
        "def text_preprocessor(s):\n",
        "    import re\n",
        "    \n",
        "    ## (1) [], (), {}, <> 괄호와 괄호 안 문자 제거하기\n",
        "    pattern = r'\\([^)]*\\)' \n",
        "    s = re.sub(pattern=pattern, repl='', string=s)\n",
        "    \n",
        "    pattern = r'\\[[^)]*\\]' \n",
        "    s = re.sub(pattern=pattern, repl='', string=s)\n",
        "    \n",
        "    pattern = r'\\<[^)]*\\>' \n",
        "    s = re.sub(pattern=pattern, repl='', string=s)\n",
        "    \n",
        "    pattern = r'\\{[^)]*\\}'\n",
        "    s = re.sub(pattern=pattern, repl='', string=s)\n",
        "    \n",
        "    ## (2) '...' 제거\n",
        "    s = s.replace('...', ' ')\n",
        "    s = s.replace('...', ' ')\n",
        "    \n",
        "    ## (3) 특수문자 제거\n",
        "    pattern = r'[^a-zA-Z가-힣]'\n",
        "    s = re.sub(pattern=pattern, repl=' ', string=s)\n",
        "    \n",
        "    ## (4) 단위 제거: cm, km, etc.\n",
        "    units = ['mm', 'cm', 'km', 'ml', 'kg', 'g']\n",
        "    for unit in units:\n",
        "        s = s.lower() # 대문자를 소문자로 변환\n",
        "        s = s.replace(unit, '')\n",
        "        \n",
        "    # (5) 공백 기준으로 분할하기\n",
        "    s_split = s.split()\n",
        "    \n",
        "    # (6) 글자 1개만 있으면 제외하기\n",
        "    s_list = []\n",
        "    for word in s_split:\n",
        "        if len(word) !=1:\n",
        "            s_list.append(word)\n",
        "            \n",
        "    return s_list\n"
      ]
    },
    {
      "cell_type": "code",
      "execution_count": 8,
      "metadata": {
        "id": "Xqgdf4T0bLwE"
      },
      "outputs": [],
      "source": [
        "from konlpy.tag import Okt  \n",
        "from konlpy.tag import Kkma    # NLP of the Korean language\n",
        "\n",
        "def words_tokonizer(text):\n",
        "   \n",
        "    kkma = Kkma()\n",
        "    \n",
        "    words = []\n",
        "    \n",
        "    # Text preprocessing using the UDF above\n",
        "    s_list = text_preprocessor(text)\n",
        "    \n",
        "    # POS tagging\n",
        "    for s in s_list:\n",
        "        words_ = kkma.pos(s)   \n",
        "        \n",
        "        # NNG indexing\n",
        "        for word in words_:\n",
        "            if word[1] == 'NNG':\n",
        "                words.append(word[0])\n",
        "            \n",
        "    return words"
      ]
    },
    {
      "cell_type": "code",
      "execution_count": 9,
      "metadata": {
        "id": "AAEyBUdObLwG"
      },
      "outputs": [],
      "source": [
        "df['tokenized'] = df['story'].apply(lambda text: words_tokonizer(text))"
      ]
    },
    {
      "cell_type": "code",
      "execution_count": 10,
      "metadata": {
        "id": "n8hXkVNLbLwH"
      },
      "outputs": [],
      "source": [
        "# 단어별 빈도수, 단어길이가 2개 이상인 단어만 추출\n",
        "\n",
        "vocab = {}\n",
        "preprocessed_sentences = []\n",
        "\n",
        "# 단어 토큰화 진행한 tokenized 변수 이용\n",
        "for tokenized_sentence in df['tokenized']:\n",
        "    result = []\n",
        "\n",
        "    for word in tokenized_sentence:\n",
        "        \n",
        "        if len(word) >= 2:          # 단어길이가 2개 이상인 단어만 추출\n",
        "            result.append(word)\n",
        "            \n",
        "            if word not in vocab:   # 딕셔너리 {key=단어, value=빈도수}\n",
        "                vocab[word] = 0\n",
        "            vocab[word] += 1\n",
        "\n",
        "    preprocessed_sentences.append(result)\n",
        "\n",
        "df['preprocessed_list'] = preprocessed_sentences"
      ]
    },
    {
      "cell_type": "code",
      "execution_count": 11,
      "metadata": {
        "colab": {
          "base_uri": "https://localhost:8080/",
          "height": 337
        },
        "id": "C_dUOaAhbLwJ",
        "outputId": "460dfc07-a8b9-4eb4-bd77-33f2c8a5dc0b"
      },
      "outputs": [
        {
          "data": {
            "text/html": [
              "\n",
              "  <div id=\"df-3392eff5-2c0c-4bff-824d-d457b5ca7466\">\n",
              "    <div class=\"colab-df-container\">\n",
              "      <div>\n",
              "<style scoped>\n",
              "    .dataframe tbody tr th:only-of-type {\n",
              "        vertical-align: middle;\n",
              "    }\n",
              "\n",
              "    .dataframe tbody tr th {\n",
              "        vertical-align: top;\n",
              "    }\n",
              "\n",
              "    .dataframe thead th {\n",
              "        text-align: right;\n",
              "    }\n",
              "</style>\n",
              "<table border=\"1\" class=\"dataframe\">\n",
              "  <thead>\n",
              "    <tr style=\"text-align: right;\">\n",
              "      <th></th>\n",
              "      <th>genre</th>\n",
              "      <th>title</th>\n",
              "      <th>story</th>\n",
              "      <th>tokenized</th>\n",
              "      <th>preprocessed_list</th>\n",
              "      <th>preprocessed</th>\n",
              "    </tr>\n",
              "  </thead>\n",
              "  <tbody>\n",
              "    <tr>\n",
              "      <th>0</th>\n",
              "      <td>일상</td>\n",
              "      <td>피터팬날다</td>\n",
              "      <td>한국콘텐츠진흥원과 함께하는 2009 네이버 웹툰 공모전 가작 수상작\\n\\n소년의 마...</td>\n",
              "      <td>[한국, 콘텐츠, 진흥원, 웹, 공모전, 가작, 수상작, 소년, 마음, 피, 태풍,...</td>\n",
              "      <td>[한국, 콘텐츠, 진흥원, 공모전, 가작, 수상작, 소년, 마음, 태풍, 현실, 적...</td>\n",
              "      <td>한국 콘텐츠 진흥원 공모전 가작 수상작 소년 마음 태풍 현실 적응 애착 느림 철학</td>\n",
              "    </tr>\n",
              "    <tr>\n",
              "      <th>1</th>\n",
              "      <td>일상</td>\n",
              "      <td>가우스전자</td>\n",
              "      <td>다국적 문어발 기업 가우스전자 마케팅3부 이야기\\n\\n곽백수 작가가 선보이는 본격 ...</td>\n",
              "      <td>[다국적, 문어발, 기업, 가우스, 전자, 마케팅, 이야기, 곽, 백수, 작가, 본...</td>\n",
              "      <td>[다국적, 문어발, 기업, 가우스, 전자, 마케팅, 이야기, 백수, 작가, 본격, ...</td>\n",
              "      <td>다국적 문어발 기업 가우스 전자 마케팅 이야기 백수 작가 본격 직장인 만화</td>\n",
              "    </tr>\n",
              "    <tr>\n",
              "      <th>2</th>\n",
              "      <td>일상</td>\n",
              "      <td>미쳐 날뛰는 생활툰</td>\n",
              "      <td>만화가가 되고 싶었던 나날\\n\\n가볍게 그려본 생활툰 하나에 격동하는 주변의 이야기</td>\n",
              "      <td>[만화가, 나날, 생활, 하나, 격동, 주변, 이야기]</td>\n",
              "      <td>[만화가, 나날, 생활, 하나, 격동, 주변, 이야기]</td>\n",
              "      <td>만화가 나날 생활 하나 격동 주변 이야기</td>\n",
              "    </tr>\n",
              "    <tr>\n",
              "      <th>3</th>\n",
              "      <td>일상</td>\n",
              "      <td>생활의참견</td>\n",
              "      <td>쉽게 지나치는 일상과 지나간 추억 속에서 발견하는 유쾌한 웃음,\\n\\n삶의 유머를 ...</td>\n",
              "      <td>[일상, 추억, 속, 발견, 웃음, 삶, 유머, 황, 당, 유, 추억, 생활, 만화]</td>\n",
              "      <td>[일상, 추억, 발견, 웃음, 유머, 추억, 생활, 만화]</td>\n",
              "      <td>일상 추억 발견 웃음 유머 추억 생활 만화</td>\n",
              "    </tr>\n",
              "    <tr>\n",
              "      <th>4</th>\n",
              "      <td>일상</td>\n",
              "      <td>닥터앤닥터 육아일기</td>\n",
              "      <td>산부인과 의사 엄마의 임신과 출산, 공학박사 아빠의 논문 기반 육아.\\n\\n완벽할 ...</td>\n",
              "      <td>[산부인과, 의사, 엄마, 임신, 출산, 공학, 박사, 아빠, 논문, 기반, 육아,...</td>\n",
              "      <td>[산부인과, 의사, 엄마, 임신, 출산, 공학, 박사, 아빠, 논문, 기반, 육아,...</td>\n",
              "      <td>산부인과 의사 엄마 임신 출산 공학 박사 아빠 논문 기반 육아 완벽 앞길 대로 사람...</td>\n",
              "    </tr>\n",
              "  </tbody>\n",
              "</table>\n",
              "</div>\n",
              "      <button class=\"colab-df-convert\" onclick=\"convertToInteractive('df-3392eff5-2c0c-4bff-824d-d457b5ca7466')\"\n",
              "              title=\"Convert this dataframe to an interactive table.\"\n",
              "              style=\"display:none;\">\n",
              "        \n",
              "  <svg xmlns=\"http://www.w3.org/2000/svg\" height=\"24px\"viewBox=\"0 0 24 24\"\n",
              "       width=\"24px\">\n",
              "    <path d=\"M0 0h24v24H0V0z\" fill=\"none\"/>\n",
              "    <path d=\"M18.56 5.44l.94 2.06.94-2.06 2.06-.94-2.06-.94-.94-2.06-.94 2.06-2.06.94zm-11 1L8.5 8.5l.94-2.06 2.06-.94-2.06-.94L8.5 2.5l-.94 2.06-2.06.94zm10 10l.94 2.06.94-2.06 2.06-.94-2.06-.94-.94-2.06-.94 2.06-2.06.94z\"/><path d=\"M17.41 7.96l-1.37-1.37c-.4-.4-.92-.59-1.43-.59-.52 0-1.04.2-1.43.59L10.3 9.45l-7.72 7.72c-.78.78-.78 2.05 0 2.83L4 21.41c.39.39.9.59 1.41.59.51 0 1.02-.2 1.41-.59l7.78-7.78 2.81-2.81c.8-.78.8-2.07 0-2.86zM5.41 20L4 18.59l7.72-7.72 1.47 1.35L5.41 20z\"/>\n",
              "  </svg>\n",
              "      </button>\n",
              "      \n",
              "  <style>\n",
              "    .colab-df-container {\n",
              "      display:flex;\n",
              "      flex-wrap:wrap;\n",
              "      gap: 12px;\n",
              "    }\n",
              "\n",
              "    .colab-df-convert {\n",
              "      background-color: #E8F0FE;\n",
              "      border: none;\n",
              "      border-radius: 50%;\n",
              "      cursor: pointer;\n",
              "      display: none;\n",
              "      fill: #1967D2;\n",
              "      height: 32px;\n",
              "      padding: 0 0 0 0;\n",
              "      width: 32px;\n",
              "    }\n",
              "\n",
              "    .colab-df-convert:hover {\n",
              "      background-color: #E2EBFA;\n",
              "      box-shadow: 0px 1px 2px rgba(60, 64, 67, 0.3), 0px 1px 3px 1px rgba(60, 64, 67, 0.15);\n",
              "      fill: #174EA6;\n",
              "    }\n",
              "\n",
              "    [theme=dark] .colab-df-convert {\n",
              "      background-color: #3B4455;\n",
              "      fill: #D2E3FC;\n",
              "    }\n",
              "\n",
              "    [theme=dark] .colab-df-convert:hover {\n",
              "      background-color: #434B5C;\n",
              "      box-shadow: 0px 1px 3px 1px rgba(0, 0, 0, 0.15);\n",
              "      filter: drop-shadow(0px 1px 2px rgba(0, 0, 0, 0.3));\n",
              "      fill: #FFFFFF;\n",
              "    }\n",
              "  </style>\n",
              "\n",
              "      <script>\n",
              "        const buttonEl =\n",
              "          document.querySelector('#df-3392eff5-2c0c-4bff-824d-d457b5ca7466 button.colab-df-convert');\n",
              "        buttonEl.style.display =\n",
              "          google.colab.kernel.accessAllowed ? 'block' : 'none';\n",
              "\n",
              "        async function convertToInteractive(key) {\n",
              "          const element = document.querySelector('#df-3392eff5-2c0c-4bff-824d-d457b5ca7466');\n",
              "          const dataTable =\n",
              "            await google.colab.kernel.invokeFunction('convertToInteractive',\n",
              "                                                     [key], {});\n",
              "          if (!dataTable) return;\n",
              "\n",
              "          const docLinkHtml = 'Like what you see? Visit the ' +\n",
              "            '<a target=\"_blank\" href=https://colab.research.google.com/notebooks/data_table.ipynb>data table notebook</a>'\n",
              "            + ' to learn more about interactive tables.';\n",
              "          element.innerHTML = '';\n",
              "          dataTable['output_type'] = 'display_data';\n",
              "          await google.colab.output.renderOutput(dataTable, element);\n",
              "          const docLink = document.createElement('div');\n",
              "          docLink.innerHTML = docLinkHtml;\n",
              "          element.appendChild(docLink);\n",
              "        }\n",
              "      </script>\n",
              "    </div>\n",
              "  </div>\n",
              "  "
            ],
            "text/plain": [
              "  genre       title                                              story  \\\n",
              "0    일상       피터팬날다  한국콘텐츠진흥원과 함께하는 2009 네이버 웹툰 공모전 가작 수상작\\n\\n소년의 마...   \n",
              "1    일상       가우스전자  다국적 문어발 기업 가우스전자 마케팅3부 이야기\\n\\n곽백수 작가가 선보이는 본격 ...   \n",
              "2    일상  미쳐 날뛰는 생활툰     만화가가 되고 싶었던 나날\\n\\n가볍게 그려본 생활툰 하나에 격동하는 주변의 이야기   \n",
              "3    일상       생활의참견  쉽게 지나치는 일상과 지나간 추억 속에서 발견하는 유쾌한 웃음,\\n\\n삶의 유머를 ...   \n",
              "4    일상  닥터앤닥터 육아일기  산부인과 의사 엄마의 임신과 출산, 공학박사 아빠의 논문 기반 육아.\\n\\n완벽할 ...   \n",
              "\n",
              "                                           tokenized  \\\n",
              "0  [한국, 콘텐츠, 진흥원, 웹, 공모전, 가작, 수상작, 소년, 마음, 피, 태풍,...   \n",
              "1  [다국적, 문어발, 기업, 가우스, 전자, 마케팅, 이야기, 곽, 백수, 작가, 본...   \n",
              "2                     [만화가, 나날, 생활, 하나, 격동, 주변, 이야기]   \n",
              "3    [일상, 추억, 속, 발견, 웃음, 삶, 유머, 황, 당, 유, 추억, 생활, 만화]   \n",
              "4  [산부인과, 의사, 엄마, 임신, 출산, 공학, 박사, 아빠, 논문, 기반, 육아,...   \n",
              "\n",
              "                                   preprocessed_list  \\\n",
              "0  [한국, 콘텐츠, 진흥원, 공모전, 가작, 수상작, 소년, 마음, 태풍, 현실, 적...   \n",
              "1  [다국적, 문어발, 기업, 가우스, 전자, 마케팅, 이야기, 백수, 작가, 본격, ...   \n",
              "2                     [만화가, 나날, 생활, 하나, 격동, 주변, 이야기]   \n",
              "3                   [일상, 추억, 발견, 웃음, 유머, 추억, 생활, 만화]   \n",
              "4  [산부인과, 의사, 엄마, 임신, 출산, 공학, 박사, 아빠, 논문, 기반, 육아,...   \n",
              "\n",
              "                                        preprocessed  \n",
              "0      한국 콘텐츠 진흥원 공모전 가작 수상작 소년 마음 태풍 현실 적응 애착 느림 철학  \n",
              "1          다국적 문어발 기업 가우스 전자 마케팅 이야기 백수 작가 본격 직장인 만화  \n",
              "2                             만화가 나날 생활 하나 격동 주변 이야기  \n",
              "3                            일상 추억 발견 웃음 유머 추억 생활 만화  \n",
              "4  산부인과 의사 엄마 임신 출산 공학 박사 아빠 논문 기반 육아 완벽 앞길 대로 사람...  "
            ]
          },
          "execution_count": 11,
          "metadata": {},
          "output_type": "execute_result"
        }
      ],
      "source": [
        "df[\"preprocessed\"] = \"\"\n",
        "\n",
        "for i in range(len(df['preprocessed_list'])):\n",
        "    df['preprocessed'][i] = ' '.join(s for s in df['preprocessed_list'][i])\n",
        "df.head()"
      ]
    },
    {
      "cell_type": "markdown",
      "metadata": {
        "id": "qwd2alKVbLwK"
      },
      "source": [
        "## 전처리 끝"
      ]
    },
    {
      "cell_type": "markdown",
      "metadata": {
        "id": "c9WMfisPbLwK"
      },
      "source": [
        "# TF-IDF"
      ]
    },
    {
      "cell_type": "code",
      "execution_count": 12,
      "metadata": {
        "id": "5iBDM2vfbLwK"
      },
      "outputs": [],
      "source": [
        "from sklearn.feature_extraction.text import TfidfVectorizer\n",
        "from sklearn.metrics.pairwise import cosine_similarity"
      ]
    },
    {
      "cell_type": "code",
      "execution_count": 13,
      "metadata": {
        "colab": {
          "base_uri": "https://localhost:8080/"
        },
        "id": "0zyG5MegbLwL",
        "outputId": "6c70746e-a971-4f08-ea30-eaf325ea7d97"
      },
      "outputs": [
        {
          "data": {
            "text/plain": [
              "0"
            ]
          },
          "execution_count": 13,
          "metadata": {},
          "output_type": "execute_result"
        }
      ],
      "source": [
        "df['preprocessed'].isnull().sum()"
      ]
    },
    {
      "cell_type": "code",
      "execution_count": 14,
      "metadata": {
        "colab": {
          "base_uri": "https://localhost:8080/"
        },
        "id": "T3za4vZ8bLwL",
        "outputId": "37a7e118-321f-4834-b16d-21699894a129"
      },
      "outputs": [
        {
          "name": "stdout",
          "output_type": "stream",
          "text": [
            "TF-IDF 행렬의 크기(shape) : (2024, 7490)\n"
          ]
        }
      ],
      "source": [
        "# 전처리 끝난 열 df['preprocessed']에 대해서 TF-IDF 행렬 구하고 크기 출력\n",
        "tfidf = TfidfVectorizer()\n",
        "tfidf_matrix = tfidf.fit_transform(df['preprocessed'])\n",
        "print('TF-IDF 행렬의 크기(shape) :', tfidf_matrix.shape)\n",
        "\n",
        "# 2024행을 가진 7490의 열\n",
        "# 즉, 2024개의 웹툰을 표현하기 위해 7490개의 단어가 사용됐다는 것(7490차원의 문서가 2024개 있는것이다.)\n",
        "# 7490차원 임베딩"
      ]
    },
    {
      "cell_type": "code",
      "execution_count": 15,
      "metadata": {
        "colab": {
          "base_uri": "https://localhost:8080/"
        },
        "id": "xujlJecmbLwL",
        "outputId": "cef2a868-9015-4ac9-8a5b-2ffb0cc7bf15"
      },
      "outputs": [
        {
          "name": "stdout",
          "output_type": "stream",
          "text": [
            "코사인 유사도 연산 결과 : (2024, 2024)\n"
          ]
        }
      ],
      "source": [
        "# 코사인 유사도 측정\n",
        "cosine_sim = cosine_similarity(tfidf_matrix, tfidf_matrix)\n",
        "print('코사인 유사도 연산 결과 :',cosine_sim.shape)\n",
        "\n",
        "# 2024개의 각 문서(웹툰) 벡터와 자기 자신을 포함한 2024개의 문서간의 유사도가 기록된 행렬이다."
      ]
    },
    {
      "cell_type": "code",
      "execution_count": 27,
      "metadata": {
        "id": "3nrlqbu6bLwM"
      },
      "outputs": [],
      "source": [
        "# 여기서 2024개 데이터에 대한 인덱스와 title 딕션너리를 만들어 둔다.\n",
        "title_to_index = dict(zip(df['title'], df.index))\n",
        "# 웹툰 제목을 치면 해당 행에 대한 인덱스가 나오는 구조"
      ]
    },
    {
      "cell_type": "code",
      "execution_count": 17,
      "metadata": {
        "id": "fZxf0GpBf9ct"
      },
      "outputs": [],
      "source": [
        "def get_recommendations(title, cosine_sim=cosine_sim):\n",
        "    # 선택한 웹툰의 타이틀로부터 해당 웹툰의 인덱스를 받아온다.\n",
        "    idx = title_to_index[title]\n",
        "\n",
        "    # 해당 웹툰과 모든 웹툰과의 유사도를 가져온다.\n",
        "    sim_scores = list(enumerate(cosine_sim[idx]))\n",
        "\n",
        "    # 유사도에 따라 영화들을 정렬한다.\n",
        "    sim_webtoon = sorted(sim_scores, key=lambda x: x[1], reverse=True)\n",
        "\n",
        "    # 가장 유사한 10개의 웹툰의 인덱스를 얻는다.\n",
        "    movie_indexes = [idx[0] for idx in sim_webtoon[1:]]\n",
        "    score_indexes = [idx[1] for idx in sim_webtoon[1:]]\n",
        "\n",
        "    # 가장 유사한 10개의 웹툰의 제목을 리턴한다.\n",
        "    title = df['title'].iloc[movie_indexes].to_frame().reset_index()\n",
        "    genre = df['genre'].iloc[movie_indexes].to_frame()\n",
        "    score = pd.DataFrame(score_indexes)\n",
        "\n",
        "    wt_df = pd.concat([title, genre, score], axis=1).iloc[:10, :]\n",
        "    wt_df.columns = ['index', 'title', 'genre', 'score']\n",
        "    wt_df['index'] = wt_df['index'].astype(int)\n",
        "\n",
        "    return wt_df"
      ]
    },
    {
      "cell_type": "code",
      "execution_count": 18,
      "metadata": {
        "colab": {
          "base_uri": "https://localhost:8080/",
          "height": 363
        },
        "id": "0JXHGDWsgBmJ",
        "outputId": "8f61f87f-1bd1-4591-b1eb-2378fe36264f"
      },
      "outputs": [
        {
          "data": {
            "text/html": [
              "\n",
              "  <div id=\"df-6f1dd83a-2c1e-442a-afb2-54e4b29498b4\">\n",
              "    <div class=\"colab-df-container\">\n",
              "      <div>\n",
              "<style scoped>\n",
              "    .dataframe tbody tr th:only-of-type {\n",
              "        vertical-align: middle;\n",
              "    }\n",
              "\n",
              "    .dataframe tbody tr th {\n",
              "        vertical-align: top;\n",
              "    }\n",
              "\n",
              "    .dataframe thead th {\n",
              "        text-align: right;\n",
              "    }\n",
              "</style>\n",
              "<table border=\"1\" class=\"dataframe\">\n",
              "  <thead>\n",
              "    <tr style=\"text-align: right;\">\n",
              "      <th></th>\n",
              "      <th>index</th>\n",
              "      <th>title</th>\n",
              "      <th>genre</th>\n",
              "      <th>score</th>\n",
              "    </tr>\n",
              "  </thead>\n",
              "  <tbody>\n",
              "    <tr>\n",
              "      <th>0</th>\n",
              "      <td>1510</td>\n",
              "      <td>장난을 잘 치는 전 타카기 양</td>\n",
              "      <td>일상</td>\n",
              "      <td>0.200485</td>\n",
              "    </tr>\n",
              "    <tr>\n",
              "      <th>1</th>\n",
              "      <td>524</td>\n",
              "      <td>내 최애가 위험해</td>\n",
              "      <td>일상</td>\n",
              "      <td>0.181941</td>\n",
              "    </tr>\n",
              "    <tr>\n",
              "      <th>2</th>\n",
              "      <td>693</td>\n",
              "      <td>뜬금없지만, 오늘 만나러 와 줘</td>\n",
              "      <td>일상</td>\n",
              "      <td>0.151832</td>\n",
              "    </tr>\n",
              "    <tr>\n",
              "      <th>3</th>\n",
              "      <td>1161</td>\n",
              "      <td>아저씨와, 사랑 [개정판]</td>\n",
              "      <td>일상</td>\n",
              "      <td>0.151083</td>\n",
              "    </tr>\n",
              "    <tr>\n",
              "      <th>4</th>\n",
              "      <td>1930</td>\n",
              "      <td>쌈빡</td>\n",
              "      <td>일상</td>\n",
              "      <td>0.130387</td>\n",
              "    </tr>\n",
              "    <tr>\n",
              "      <th>5</th>\n",
              "      <td>1847</td>\n",
              "      <td>MZ-레이징 인페르노</td>\n",
              "      <td>일상</td>\n",
              "      <td>0.129849</td>\n",
              "    </tr>\n",
              "    <tr>\n",
              "      <th>6</th>\n",
              "      <td>1941</td>\n",
              "      <td>에이전트</td>\n",
              "      <td>일상</td>\n",
              "      <td>0.125259</td>\n",
              "    </tr>\n",
              "    <tr>\n",
              "      <th>7</th>\n",
              "      <td>1300</td>\n",
              "      <td>옆집남자 친구</td>\n",
              "      <td>일상</td>\n",
              "      <td>0.123788</td>\n",
              "    </tr>\n",
              "    <tr>\n",
              "      <th>8</th>\n",
              "      <td>431</td>\n",
              "      <td>껄끄러운 상사와 이웃이 되었습니다</td>\n",
              "      <td>일상</td>\n",
              "      <td>0.122566</td>\n",
              "    </tr>\n",
              "    <tr>\n",
              "      <th>9</th>\n",
              "      <td>106</td>\n",
              "      <td>도토리 문화센터</td>\n",
              "      <td>일상</td>\n",
              "      <td>0.119527</td>\n",
              "    </tr>\n",
              "  </tbody>\n",
              "</table>\n",
              "</div>\n",
              "      <button class=\"colab-df-convert\" onclick=\"convertToInteractive('df-6f1dd83a-2c1e-442a-afb2-54e4b29498b4')\"\n",
              "              title=\"Convert this dataframe to an interactive table.\"\n",
              "              style=\"display:none;\">\n",
              "        \n",
              "  <svg xmlns=\"http://www.w3.org/2000/svg\" height=\"24px\"viewBox=\"0 0 24 24\"\n",
              "       width=\"24px\">\n",
              "    <path d=\"M0 0h24v24H0V0z\" fill=\"none\"/>\n",
              "    <path d=\"M18.56 5.44l.94 2.06.94-2.06 2.06-.94-2.06-.94-.94-2.06-.94 2.06-2.06.94zm-11 1L8.5 8.5l.94-2.06 2.06-.94-2.06-.94L8.5 2.5l-.94 2.06-2.06.94zm10 10l.94 2.06.94-2.06 2.06-.94-2.06-.94-.94-2.06-.94 2.06-2.06.94z\"/><path d=\"M17.41 7.96l-1.37-1.37c-.4-.4-.92-.59-1.43-.59-.52 0-1.04.2-1.43.59L10.3 9.45l-7.72 7.72c-.78.78-.78 2.05 0 2.83L4 21.41c.39.39.9.59 1.41.59.51 0 1.02-.2 1.41-.59l7.78-7.78 2.81-2.81c.8-.78.8-2.07 0-2.86zM5.41 20L4 18.59l7.72-7.72 1.47 1.35L5.41 20z\"/>\n",
              "  </svg>\n",
              "      </button>\n",
              "      \n",
              "  <style>\n",
              "    .colab-df-container {\n",
              "      display:flex;\n",
              "      flex-wrap:wrap;\n",
              "      gap: 12px;\n",
              "    }\n",
              "\n",
              "    .colab-df-convert {\n",
              "      background-color: #E8F0FE;\n",
              "      border: none;\n",
              "      border-radius: 50%;\n",
              "      cursor: pointer;\n",
              "      display: none;\n",
              "      fill: #1967D2;\n",
              "      height: 32px;\n",
              "      padding: 0 0 0 0;\n",
              "      width: 32px;\n",
              "    }\n",
              "\n",
              "    .colab-df-convert:hover {\n",
              "      background-color: #E2EBFA;\n",
              "      box-shadow: 0px 1px 2px rgba(60, 64, 67, 0.3), 0px 1px 3px 1px rgba(60, 64, 67, 0.15);\n",
              "      fill: #174EA6;\n",
              "    }\n",
              "\n",
              "    [theme=dark] .colab-df-convert {\n",
              "      background-color: #3B4455;\n",
              "      fill: #D2E3FC;\n",
              "    }\n",
              "\n",
              "    [theme=dark] .colab-df-convert:hover {\n",
              "      background-color: #434B5C;\n",
              "      box-shadow: 0px 1px 3px 1px rgba(0, 0, 0, 0.15);\n",
              "      filter: drop-shadow(0px 1px 2px rgba(0, 0, 0, 0.3));\n",
              "      fill: #FFFFFF;\n",
              "    }\n",
              "  </style>\n",
              "\n",
              "      <script>\n",
              "        const buttonEl =\n",
              "          document.querySelector('#df-6f1dd83a-2c1e-442a-afb2-54e4b29498b4 button.colab-df-convert');\n",
              "        buttonEl.style.display =\n",
              "          google.colab.kernel.accessAllowed ? 'block' : 'none';\n",
              "\n",
              "        async function convertToInteractive(key) {\n",
              "          const element = document.querySelector('#df-6f1dd83a-2c1e-442a-afb2-54e4b29498b4');\n",
              "          const dataTable =\n",
              "            await google.colab.kernel.invokeFunction('convertToInteractive',\n",
              "                                                     [key], {});\n",
              "          if (!dataTable) return;\n",
              "\n",
              "          const docLinkHtml = 'Like what you see? Visit the ' +\n",
              "            '<a target=\"_blank\" href=https://colab.research.google.com/notebooks/data_table.ipynb>data table notebook</a>'\n",
              "            + ' to learn more about interactive tables.';\n",
              "          element.innerHTML = '';\n",
              "          dataTable['output_type'] = 'display_data';\n",
              "          await google.colab.output.renderOutput(dataTable, element);\n",
              "          const docLink = document.createElement('div');\n",
              "          docLink.innerHTML = docLinkHtml;\n",
              "          element.appendChild(docLink);\n",
              "        }\n",
              "      </script>\n",
              "    </div>\n",
              "  </div>\n",
              "  "
            ],
            "text/plain": [
              "   index               title genre     score\n",
              "0   1510    장난을 잘 치는 전 타카기 양    일상  0.200485\n",
              "1    524           내 최애가 위험해    일상  0.181941\n",
              "2    693   뜬금없지만, 오늘 만나러 와 줘    일상  0.151832\n",
              "3   1161      아저씨와, 사랑 [개정판]    일상  0.151083\n",
              "4   1930                  쌈빡    일상  0.130387\n",
              "5   1847         MZ-레이징 인페르노    일상  0.129849\n",
              "6   1941                에이전트    일상  0.125259\n",
              "7   1300             옆집남자 친구    일상  0.123788\n",
              "8    431  껄끄러운 상사와 이웃이 되었습니다    일상  0.122566\n",
              "9    106            도토리 문화센터    일상  0.119527"
            ]
          },
          "execution_count": 18,
          "metadata": {},
          "output_type": "execute_result"
        }
      ],
      "source": [
        "get_recommendations('김부장')"
      ]
    },
    {
      "cell_type": "markdown",
      "metadata": {
        "id": "plMhK9_rbLwQ"
      },
      "source": [
        "# FastText"
      ]
    },
    {
      "cell_type": "code",
      "execution_count": 19,
      "metadata": {
        "id": "o3CI4pCSpImV"
      },
      "outputs": [],
      "source": [
        "from gensim.models.fasttext import FastText\n",
        "from gensim.test.utils import datapath"
      ]
    },
    {
      "cell_type": "code",
      "execution_count": 20,
      "metadata": {
        "id": "Xn8RFnFrbLwQ"
      },
      "outputs": [],
      "source": [
        "corpus = []\n",
        "for words in df['preprocessed']:\n",
        "    corpus.append(words.split())"
      ]
    },
    {
      "cell_type": "code",
      "execution_count": 21,
      "metadata": {
        "id": "Oep-6rCwbLwR"
      },
      "outputs": [],
      "source": [
        "fasttext_model = FastText(size=200, \n",
        "                          window=2, \n",
        "                          min_count=2, \n",
        "                          workers=4, \n",
        "                          sg=0)\n",
        "fasttext_model.build_vocab(corpus)\n",
        "fasttext_model.train(corpus, total_examples=fasttext_model.corpus_count, epochs=10) "
      ]
    },
    {
      "cell_type": "markdown",
      "metadata": {
        "id": "uAPssKQbbLwS"
      },
      "source": [
        "## 단어 벡터의 평균 구하기"
      ]
    },
    {
      "cell_type": "code",
      "execution_count": 22,
      "metadata": {
        "id": "H21H6LXubLwS"
      },
      "outputs": [],
      "source": [
        "def get_document_vectors(document_list):\n",
        "    document_embedding_list = []\n",
        "\n",
        "    # 각 문서에 대해서\n",
        "    for line in document_list:\n",
        "        doc2vec = None\n",
        "        count = 0\n",
        "        for word in line.split():\n",
        "            if word in fasttext_model.wv.vocab:\n",
        "                count += 1\n",
        "                # 해당 문서에 있는 모든 단어들의 벡터값을 더한다.\n",
        "                if doc2vec is None:\n",
        "                    doc2vec = fasttext_model[word]\n",
        "                else:\n",
        "                    doc2vec = doc2vec + fasttext_model[word]\n",
        "\n",
        "        if doc2vec is not None:\n",
        "            # 단어 벡터를 모두 더한 벡터의 값을 문서 길이로 나눠준다.\n",
        "            doc2vec = doc2vec / count\n",
        "            document_embedding_list.append(doc2vec)\n",
        "\n",
        "    # 각 문서에 대한 문서 벡터 리스트를 리턴\n",
        "    return document_embedding_list"
      ]
    },
    {
      "cell_type": "code",
      "execution_count": 23,
      "metadata": {
        "colab": {
          "base_uri": "https://localhost:8080/"
        },
        "id": "JSKLBuKvbLwS",
        "outputId": "000d6e87-2b62-45fc-a8fe-6ff19e867a61"
      },
      "outputs": [
        {
          "name": "stdout",
          "output_type": "stream",
          "text": [
            "문서 벡터의 수 : 2019\n"
          ]
        },
        {
          "name": "stderr",
          "output_type": "stream",
          "text": [
            "<ipython-input-22-2036d01c0bc0>:13: DeprecationWarning: Call to deprecated `__getitem__` (Method will be removed in 4.0.0, use self.wv.__getitem__() instead).\n",
            "  doc2vec = fasttext_model[word]\n",
            "<ipython-input-22-2036d01c0bc0>:15: DeprecationWarning: Call to deprecated `__getitem__` (Method will be removed in 4.0.0, use self.wv.__getitem__() instead).\n",
            "  doc2vec = doc2vec + fasttext_model[word]\n"
          ]
        }
      ],
      "source": [
        "document_embedding_list = get_document_vectors(df['preprocessed'])\n",
        "print('문서 벡터의 수 :',len(document_embedding_list))"
      ]
    },
    {
      "cell_type": "code",
      "execution_count": 24,
      "metadata": {
        "colab": {
          "base_uri": "https://localhost:8080/"
        },
        "id": "I0lj7dsNdjAO",
        "outputId": "9789b123-e0a5-46ec-e355-1601f79089c1"
      },
      "outputs": [
        {
          "name": "stdout",
          "output_type": "stream",
          "text": [
            "코사인 유사도 매트릭스의 크기 : (2019, 2019)\n"
          ]
        }
      ],
      "source": [
        "# 각 벡터간 코사인 유사도\n",
        "\n",
        "cosine_similarities = cosine_similarity(document_embedding_list, document_embedding_list)\n",
        "print('코사인 유사도 매트릭스의 크기 :', cosine_similarities.shape)"
      ]
    },
    {
      "cell_type": "markdown",
      "metadata": {
        "id": "RP5cW5pyp6tB"
      },
      "source": [
        "## 추천 시스템 구현"
      ]
    },
    {
      "cell_type": "code",
      "execution_count": 25,
      "metadata": {
        "id": "fb5Z_A6Pj8mf"
      },
      "outputs": [],
      "source": [
        "def fasttext_recommendations(title, cosine_sim=cosine_sim):\n",
        "    # 선택한 웹툰의 타이틀로부터 해당 웹툰의 인덱스를 받아온다.\n",
        "    idx = title_to_index[title]\n",
        "\n",
        "    # 해당 웹툰와 모든 웹툰과의 유사도를 가져온다.\n",
        "    sim_scores = list(enumerate(cosine_similarities[idx]))\n",
        "\n",
        "    # 유사도에 따라 웹툰 정렬\n",
        "    sim_webtoon = sorted(sim_scores, key=lambda x: x[1], reverse=True)\n",
        "\n",
        "    # 가장 유사한 10개의 웹툰의 인덱스를 얻는다.\n",
        "    movie_indexes = [idx[0] for idx in sim_webtoon[1:]]\n",
        "    score_indexes = [idx[1] for idx in sim_webtoon[1:]]\n",
        "\n",
        "    # 가장 유사한 10개의 웹툰의 제목을 리턴한다.\n",
        "    title = df['title'].iloc[movie_indexes].to_frame().reset_index()\n",
        "    genre = df['genre'].iloc[movie_indexes].to_frame()\n",
        "    score = pd.DataFrame(score_indexes)\n",
        "\n",
        "    wt_df = pd.concat([title, genre, score], axis=1).iloc[:10, :]\n",
        "    wt_df.columns = ['index', 'title', 'genre', 'score']\n",
        "    wt_df['index'] = wt_df['index'].astype(int)\n",
        "\n",
        "    return wt_df"
      ]
    },
    {
      "cell_type": "code",
      "execution_count": 26,
      "metadata": {
        "colab": {
          "base_uri": "https://localhost:8080/",
          "height": 363
        },
        "id": "85VYJn5dkD1a",
        "outputId": "b2219f6a-7342-407f-9254-4da913503ecb"
      },
      "outputs": [
        {
          "data": {
            "text/html": [
              "\n",
              "  <div id=\"df-daa87c2e-5d6a-41f3-9c2c-c444c7011a03\">\n",
              "    <div class=\"colab-df-container\">\n",
              "      <div>\n",
              "<style scoped>\n",
              "    .dataframe tbody tr th:only-of-type {\n",
              "        vertical-align: middle;\n",
              "    }\n",
              "\n",
              "    .dataframe tbody tr th {\n",
              "        vertical-align: top;\n",
              "    }\n",
              "\n",
              "    .dataframe thead th {\n",
              "        text-align: right;\n",
              "    }\n",
              "</style>\n",
              "<table border=\"1\" class=\"dataframe\">\n",
              "  <thead>\n",
              "    <tr style=\"text-align: right;\">\n",
              "      <th></th>\n",
              "      <th>index</th>\n",
              "      <th>title</th>\n",
              "      <th>genre</th>\n",
              "      <th>score</th>\n",
              "    </tr>\n",
              "  </thead>\n",
              "  <tbody>\n",
              "    <tr>\n",
              "      <th>0</th>\n",
              "      <td>304</td>\n",
              "      <td>거만한 부사장에게 잡혔습니다</td>\n",
              "      <td>일상</td>\n",
              "      <td>0.999989</td>\n",
              "    </tr>\n",
              "    <tr>\n",
              "      <th>1</th>\n",
              "      <td>456</td>\n",
              "      <td>나랑 살래？</td>\n",
              "      <td>일상</td>\n",
              "      <td>0.999987</td>\n",
              "    </tr>\n",
              "    <tr>\n",
              "      <th>2</th>\n",
              "      <td>1288</td>\n",
              "      <td>열애 수업</td>\n",
              "      <td>일상</td>\n",
              "      <td>0.999986</td>\n",
              "    </tr>\n",
              "    <tr>\n",
              "      <th>3</th>\n",
              "      <td>888</td>\n",
              "      <td>블루밍 시퀀스 [GL]</td>\n",
              "      <td>일상</td>\n",
              "      <td>0.999986</td>\n",
              "    </tr>\n",
              "    <tr>\n",
              "      <th>4</th>\n",
              "      <td>474</td>\n",
              "      <td>나의 스마트보이</td>\n",
              "      <td>일상</td>\n",
              "      <td>0.999986</td>\n",
              "    </tr>\n",
              "    <tr>\n",
              "      <th>5</th>\n",
              "      <td>813</td>\n",
              "      <td>반짝반짝 [독점 연재]</td>\n",
              "      <td>일상</td>\n",
              "      <td>0.999985</td>\n",
              "    </tr>\n",
              "    <tr>\n",
              "      <th>6</th>\n",
              "      <td>1163</td>\n",
              "      <td>아주 특별한 연애</td>\n",
              "      <td>일상</td>\n",
              "      <td>0.999985</td>\n",
              "    </tr>\n",
              "    <tr>\n",
              "      <th>7</th>\n",
              "      <td>1152</td>\n",
              "      <td>아사쿠라씨의 익애에 휩쓸리지 않을 거예요!</td>\n",
              "      <td>일상</td>\n",
              "      <td>0.999985</td>\n",
              "    </tr>\n",
              "    <tr>\n",
              "      <th>8</th>\n",
              "      <td>1224</td>\n",
              "      <td>어차피 남편은!</td>\n",
              "      <td>일상</td>\n",
              "      <td>0.999984</td>\n",
              "    </tr>\n",
              "    <tr>\n",
              "      <th>9</th>\n",
              "      <td>1048</td>\n",
              "      <td>속삭이듯 사랑을 노래하다 [GL]</td>\n",
              "      <td>일상</td>\n",
              "      <td>0.999984</td>\n",
              "    </tr>\n",
              "  </tbody>\n",
              "</table>\n",
              "</div>\n",
              "      <button class=\"colab-df-convert\" onclick=\"convertToInteractive('df-daa87c2e-5d6a-41f3-9c2c-c444c7011a03')\"\n",
              "              title=\"Convert this dataframe to an interactive table.\"\n",
              "              style=\"display:none;\">\n",
              "        \n",
              "  <svg xmlns=\"http://www.w3.org/2000/svg\" height=\"24px\"viewBox=\"0 0 24 24\"\n",
              "       width=\"24px\">\n",
              "    <path d=\"M0 0h24v24H0V0z\" fill=\"none\"/>\n",
              "    <path d=\"M18.56 5.44l.94 2.06.94-2.06 2.06-.94-2.06-.94-.94-2.06-.94 2.06-2.06.94zm-11 1L8.5 8.5l.94-2.06 2.06-.94-2.06-.94L8.5 2.5l-.94 2.06-2.06.94zm10 10l.94 2.06.94-2.06 2.06-.94-2.06-.94-.94-2.06-.94 2.06-2.06.94z\"/><path d=\"M17.41 7.96l-1.37-1.37c-.4-.4-.92-.59-1.43-.59-.52 0-1.04.2-1.43.59L10.3 9.45l-7.72 7.72c-.78.78-.78 2.05 0 2.83L4 21.41c.39.39.9.59 1.41.59.51 0 1.02-.2 1.41-.59l7.78-7.78 2.81-2.81c.8-.78.8-2.07 0-2.86zM5.41 20L4 18.59l7.72-7.72 1.47 1.35L5.41 20z\"/>\n",
              "  </svg>\n",
              "      </button>\n",
              "      \n",
              "  <style>\n",
              "    .colab-df-container {\n",
              "      display:flex;\n",
              "      flex-wrap:wrap;\n",
              "      gap: 12px;\n",
              "    }\n",
              "\n",
              "    .colab-df-convert {\n",
              "      background-color: #E8F0FE;\n",
              "      border: none;\n",
              "      border-radius: 50%;\n",
              "      cursor: pointer;\n",
              "      display: none;\n",
              "      fill: #1967D2;\n",
              "      height: 32px;\n",
              "      padding: 0 0 0 0;\n",
              "      width: 32px;\n",
              "    }\n",
              "\n",
              "    .colab-df-convert:hover {\n",
              "      background-color: #E2EBFA;\n",
              "      box-shadow: 0px 1px 2px rgba(60, 64, 67, 0.3), 0px 1px 3px 1px rgba(60, 64, 67, 0.15);\n",
              "      fill: #174EA6;\n",
              "    }\n",
              "\n",
              "    [theme=dark] .colab-df-convert {\n",
              "      background-color: #3B4455;\n",
              "      fill: #D2E3FC;\n",
              "    }\n",
              "\n",
              "    [theme=dark] .colab-df-convert:hover {\n",
              "      background-color: #434B5C;\n",
              "      box-shadow: 0px 1px 3px 1px rgba(0, 0, 0, 0.15);\n",
              "      filter: drop-shadow(0px 1px 2px rgba(0, 0, 0, 0.3));\n",
              "      fill: #FFFFFF;\n",
              "    }\n",
              "  </style>\n",
              "\n",
              "      <script>\n",
              "        const buttonEl =\n",
              "          document.querySelector('#df-daa87c2e-5d6a-41f3-9c2c-c444c7011a03 button.colab-df-convert');\n",
              "        buttonEl.style.display =\n",
              "          google.colab.kernel.accessAllowed ? 'block' : 'none';\n",
              "\n",
              "        async function convertToInteractive(key) {\n",
              "          const element = document.querySelector('#df-daa87c2e-5d6a-41f3-9c2c-c444c7011a03');\n",
              "          const dataTable =\n",
              "            await google.colab.kernel.invokeFunction('convertToInteractive',\n",
              "                                                     [key], {});\n",
              "          if (!dataTable) return;\n",
              "\n",
              "          const docLinkHtml = 'Like what you see? Visit the ' +\n",
              "            '<a target=\"_blank\" href=https://colab.research.google.com/notebooks/data_table.ipynb>data table notebook</a>'\n",
              "            + ' to learn more about interactive tables.';\n",
              "          element.innerHTML = '';\n",
              "          dataTable['output_type'] = 'display_data';\n",
              "          await google.colab.output.renderOutput(dataTable, element);\n",
              "          const docLink = document.createElement('div');\n",
              "          docLink.innerHTML = docLinkHtml;\n",
              "          element.appendChild(docLink);\n",
              "        }\n",
              "      </script>\n",
              "    </div>\n",
              "  </div>\n",
              "  "
            ],
            "text/plain": [
              "   index                    title genre     score\n",
              "0    304          거만한 부사장에게 잡혔습니다    일상  0.999989\n",
              "1    456                   나랑 살래？    일상  0.999987\n",
              "2   1288                    열애 수업    일상  0.999986\n",
              "3    888             블루밍 시퀀스 [GL]    일상  0.999986\n",
              "4    474                 나의 스마트보이    일상  0.999986\n",
              "5    813             반짝반짝 [독점 연재]    일상  0.999985\n",
              "6   1163                아주 특별한 연애    일상  0.999985\n",
              "7   1152  아사쿠라씨의 익애에 휩쓸리지 않을 거예요!    일상  0.999985\n",
              "8   1224                 어차피 남편은!    일상  0.999984\n",
              "9   1048       속삭이듯 사랑을 노래하다 [GL]    일상  0.999984"
            ]
          },
          "execution_count": 26,
          "metadata": {},
          "output_type": "execute_result"
        }
      ],
      "source": [
        "fasttext_recommendations(\"김부장\")"
      ]
    }
  ],
  "metadata": {
    "accelerator": "GPU",
    "colab": {
      "collapsed_sections": [
        "qwd2alKVbLwK"
      ],
      "provenance": []
    },
    "gpuClass": "standard",
    "kernelspec": {
      "display_name": "ai_env",
      "language": "python",
      "name": "ai_env"
    },
    "orig_nbformat": 4,
    "vscode": {
      "interpreter": {
        "hash": "98417ce775f7933952cf64110baed154847039f1e813ac1e15bd777841bcfc35"
      }
    }
  },
  "nbformat": 4,
  "nbformat_minor": 0
}
