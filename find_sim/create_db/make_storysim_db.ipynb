{
 "cells": [
  {
   "cell_type": "code",
   "execution_count": 1,
   "metadata": {},
   "outputs": [
    {
     "name": "stderr",
     "output_type": "stream",
     "text": [
      "c:\\Programming\\kt_aivle\\project\\recommendations_for_webtoons\\webvenv\\lib\\site-packages\\tqdm\\auto.py:22: TqdmWarning: IProgress not found. Please update jupyter and ipywidgets. See https://ipywidgets.readthedocs.io/en/stable/user_install.html\n",
      "  from .autonotebook import tqdm as notebook_tqdm\n"
     ]
    }
   ],
   "source": [
    "from sentence_transformers import SentenceTransformer, util\n",
    "import pandas as pd"
   ]
  },
  {
   "cell_type": "code",
   "execution_count": 2,
   "metadata": {},
   "outputs": [],
   "source": [
    "def find_sim(story1, story2, checkpoints):\n",
    "    \n",
    "    story_vector1 = checkpoints.encode(story1)\n",
    "    story_vector2 = checkpoints.encode(story2)\n",
    "    story_sims = util.cos_sim(story_vector1,story_vector2)\n",
    "    return story_sims"
   ]
  },
  {
   "cell_type": "code",
   "execution_count": 7,
   "metadata": {},
   "outputs": [
    {
     "name": "stdout",
     "output_type": "stream",
     "text": [
      "tensor([[1.0000, 0.2780, 0.6642],\n",
      "        [0.2780, 1.0000, 0.2920],\n",
      "        [0.6642, 0.2920, 1.0000]])\n"
     ]
    }
   ],
   "source": [
    "checkpoints = SentenceTransformer('snunlp/KR-SBERT-V40K-klueNLI-augSTS')\n",
    "sentence = ['잠이 옵니다.','기차가 옵니다.','졸음이 옵니다.']\n",
    "print(find_sim(sentence,sentence,checkpoints))\n"
   ]
  },
  {
   "cell_type": "markdown",
   "metadata": {},
   "source": []
  },
  {
   "cell_type": "code",
   "execution_count": 7,
   "metadata": {},
   "outputs": [],
   "source": [
    "import pymongo\n",
    "\n",
    "conn = pymongo.MongoClient()\n",
    "webtoon_db = conn.webtoon_db\n",
    "webtoon_collection = webtoon_db.webtoon_collection"
   ]
  },
  {
   "cell_type": "code",
   "execution_count": 105,
   "metadata": {},
   "outputs": [],
   "source": [
    "\n",
    "checkpoints = SentenceTransformer('snunlp/KR-SBERT-V40K-klueNLI-augSTS')\n",
    "story_sim_list = []\n",
    "cnt = 1\n",
    "base = webtoon_collection.find({},{'title':1})\n",
    "base_title_list = [b['title'] for b in base]\n",
    "base = webtoon_collection.find({},{'story':1})\n",
    "base_story_list = [b['story'] for b in base]\n",
    "compare = webtoon_collection.find({},{'story':1,'title':1})\n",
    "compare_title_list = [c['title'] for c in compare]\n",
    "compare = webtoon_collection.find({},{'story':1,'title':1})\n",
    "compare_story_list = [c['story'] for c in compare]\n",
    "sim_list = find_sim(base_story_list,compare_story_list,checkpoints)\n",
    "for idx,base_title in enumerate(base_title_list):\n",
    "    sims = [(sim,t) for sim,t in zip(sim_list[idx],compare_title_list)]\n",
    "    sims.sort(reverse=True)\n",
    "    sim_dic = {title: story.item()for story, title in sims[1:11]}   \n",
    "    webtoon_collection.update_one({\"title\":sims[0][1]},{\"$set\":{\"similarity\":sim_dic}})\n",
    "    "
   ]
  }
 ],
 "metadata": {
  "kernelspec": {
   "display_name": "webvenv",
   "language": "python",
   "name": "python3"
  },
  "language_info": {
   "codemirror_mode": {
    "name": "ipython",
    "version": 3
   },
   "file_extension": ".py",
   "mimetype": "text/x-python",
   "name": "python",
   "nbconvert_exporter": "python",
   "pygments_lexer": "ipython3",
   "version": "3.10.7"
  },
  "orig_nbformat": 4,
  "vscode": {
   "interpreter": {
    "hash": "1e5f22dead955f85ea3c832f296e74619eb9a0b22586504fe0dd978ed0fdd447"
   }
  }
 },
 "nbformat": 4,
 "nbformat_minor": 2
}
