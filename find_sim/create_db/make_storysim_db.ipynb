{
 "cells": [
  {
   "cell_type": "code",
   "execution_count": 1,
   "metadata": {},
   "outputs": [
    {
     "name": "stderr",
     "output_type": "stream",
     "text": [
      "c:\\Programming\\python\\kt_aivle\\webtoon\\myvenv\\lib\\site-packages\\tqdm\\auto.py:22: TqdmWarning: IProgress not found. Please update jupyter and ipywidgets. See https://ipywidgets.readthedocs.io/en/stable/user_install.html\n",
      "  from .autonotebook import tqdm as notebook_tqdm\n"
     ]
    }
   ],
   "source": [
    "from sentence_transformers import SentenceTransformer, util\n",
    "import pandas as pd"
   ]
  },
  {
   "cell_type": "code",
   "execution_count": 17,
   "metadata": {},
   "outputs": [],
   "source": [
    "def find_sim(story1, story2, checkpoints):\n",
    "    \n",
    "    story_vector1 = checkpoints.encode(story1)\n",
    "    story_vector2 = checkpoints.encode(story2)\n",
    "    story_sims = util.cos_sim(story_vector1,story_vector2)\n",
    "    return story_sims"
   ]
  },
  {
   "cell_type": "code",
   "execution_count": 7,
   "metadata": {},
   "outputs": [],
   "source": [
    "import pymongo\n",
    "\n",
    "conn = pymongo.MongoClient()\n",
    "webtoon_db = conn.webtoon_db\n",
    "webtoon_collection = webtoon_db.webtoon_collection"
   ]
  },
  {
   "cell_type": "code",
   "execution_count": 105,
   "metadata": {},
   "outputs": [],
   "source": [
    "\n",
    "checkpoints = SentenceTransformer('snunlp/KR-SBERT-V40K-klueNLI-augSTS')\n",
    "story_sim_list = []\n",
    "cnt = 1\n",
    "base = webtoon_collection.find({},{'title':1})\n",
    "base_title_list = [b['title'] for b in base]\n",
    "base = webtoon_collection.find({},{'story':1})\n",
    "base_story_list = [b['story'] for b in base]\n",
    "compare = webtoon_collection.find({},{'story':1,'title':1})\n",
    "compare_title_list = [c['title'] for c in compare]\n",
    "compare = webtoon_collection.find({},{'story':1,'title':1})\n",
    "compare_story_list = [c['story'] for c in compare]\n",
    "sim_list = find_sim(base_story_list,compare_story_list,checkpoints)\n",
    "for idx,base_title in enumerate(base_title_list):\n",
    "    sims = [(sim,t) for sim,t in zip(sim_list[idx],compare_title_list)]\n",
    "    sims.sort(reverse=True)\n",
    "    sim_dic = {title: story.item()for story, title in sims[1:11]}\n",
    "    webtoon_collection.update_one({\"title\":sims[0][1]},{\"$set\":{\"similarity\":sim_dic}})\n",
    "    "
   ]
  }
 ],
 "metadata": {
  "kernelspec": {
   "display_name": "myvenv",
   "language": "python",
   "name": "python3"
  },
  "language_info": {
   "codemirror_mode": {
    "name": "ipython",
    "version": 3
   },
   "file_extension": ".py",
   "mimetype": "text/x-python",
   "name": "python",
   "nbconvert_exporter": "python",
   "pygments_lexer": "ipython3",
   "version": "3.10.6"
  },
  "orig_nbformat": 4,
  "vscode": {
   "interpreter": {
    "hash": "406cd7ec032c9ffeea125d503a6b2f61cc331ec964f20c8e28fe9267f5a11536"
   }
  }
 },
 "nbformat": 4,
 "nbformat_minor": 2
}
