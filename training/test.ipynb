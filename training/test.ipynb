{
 "cells": [
  {
   "cell_type": "code",
   "execution_count": 2,
   "metadata": {},
   "outputs": [],
   "source": [
    "import torch\n",
    "import torch.nn as nn\n",
    "import timm\n",
    "\n",
    "class EfficientV2Base(nn.Module):\n",
    "    def __init__(self, num_classes=5):\n",
    "        super().__init__()\n",
    "        self.backbone = timm.create_model('tf_efficientnetv2_m', pretrained=True)\n",
    "\n",
    "    def forward(self, x):\n",
    "        x = torch.sigmoid(self.backbone(x))\n",
    "        return x\n",
    "\n",
    "class EfficientV2(nn.Module):\n",
    "    def __init__(self, num_classes=165):\n",
    "        super().__init__()\n",
    "        self.backbone = timm.create_model('tf_efficientnetv2_m', pretrained=True, num_classes=num_classes)\n",
    "        nn.init.xavier_normal_(self.backbone.classifier.weight)\n",
    "    def forward(self, x):\n",
    "        x = torch.sigmoid(self.backbone(x))\n",
    "        return x\n",
    "\n",
    "class EfficientV2Backbone(nn.Module):\n",
    "    def __init__(self, num_classes=5):\n",
    "        super().__init__()\n",
    "        self.backbone = torch.load(\"./comic_165abel_3.pth\")\n",
    "        self.backbone.backbone.classifier = nn.Identity()\n",
    "\n",
    "    def forward(self, x):\n",
    "        self.backbone(x)\n",
    "        return x"
   ]
  },
  {
   "cell_type": "code",
   "execution_count": 3,
   "metadata": {},
   "outputs": [],
   "source": [
    "from sentence_transformers import util\n",
    "import albumentations as A\n",
    "\n",
    "def find_sim(img1,img2):\n",
    "    style_sims = util.cos_sim(img1,img2)\n",
    "    return style_sims"
   ]
  },
  {
   "cell_type": "code",
   "execution_count": 4,
   "metadata": {},
   "outputs": [],
   "source": [
    "def infer(model, test_loader, device):\n",
    "    model.to(device)\n",
    "    model.eval()\n",
    "    predictions = []\n",
    "    with torch.no_grad():\n",
    "        for imgs in test_loader:\n",
    "            imgs = imgs.float().to(device)\n",
    "            \n",
    "            probs = model(imgs)\n",
    "            probs  = probs.cpu().detach().numpy()\n",
    "            preds = probs.astype(float)\n",
    "            predictions += preds.tolist() \n",
    "    return predictions"
   ]
  },
  {
   "cell_type": "code",
   "execution_count": 5,
   "metadata": {},
   "outputs": [
    {
     "ename": "RuntimeError",
     "evalue": "self must be a matrix",
     "output_type": "error",
     "traceback": [
      "\u001b[1;31m---------------------------------------------------------------------------\u001b[0m",
      "\u001b[1;31mRuntimeError\u001b[0m                              Traceback (most recent call last)",
      "Cell \u001b[1;32mIn[5], line 50\u001b[0m\n\u001b[0;32m     47\u001b[0m preds1 \u001b[39m=\u001b[39m infer(newmodel, test_loader1, device)\n\u001b[0;32m     48\u001b[0m preds2 \u001b[39m=\u001b[39m infer(newmodel, test_loader2, device)\n\u001b[1;32m---> 50\u001b[0m sim \u001b[39m=\u001b[39m find_sim(preds1,preds2)\n\u001b[0;32m     51\u001b[0m \u001b[39m\"\"\"\u001b[39;00m\n\u001b[0;32m     52\u001b[0m \u001b[39mfor folder in tqdm(folder_list):\u001b[39;00m\n\u001b[0;32m     53\u001b[0m \u001b[39m    img = sorted(glob(f\"./data/{folder}/*.jpg\"))[1:]\u001b[39;00m\n\u001b[1;32m   (...)\u001b[0m\n\u001b[0;32m     60\u001b[0m \u001b[39m    features_dic[folder] = preds\u001b[39;00m\n\u001b[0;32m     61\u001b[0m \u001b[39m\"\"\"\u001b[39;00m\n",
      "Cell \u001b[1;32mIn[3], line 5\u001b[0m, in \u001b[0;36mfind_sim\u001b[1;34m(img1, img2)\u001b[0m\n\u001b[0;32m      4\u001b[0m \u001b[39mdef\u001b[39;00m \u001b[39mfind_sim\u001b[39m(img1,img2):\n\u001b[1;32m----> 5\u001b[0m     style_sims \u001b[39m=\u001b[39m util\u001b[39m.\u001b[39;49mcos_sim(img1,img2)\n\u001b[0;32m      6\u001b[0m     \u001b[39mreturn\u001b[39;00m style_sims\n",
      "File \u001b[1;32mc:\\Programming\\kt_aivle\\project\\recommendations_for_webtoons\\webvenv\\lib\\site-packages\\sentence_transformers\\util.py:49\u001b[0m, in \u001b[0;36mcos_sim\u001b[1;34m(a, b)\u001b[0m\n\u001b[0;32m     47\u001b[0m a_norm \u001b[39m=\u001b[39m torch\u001b[39m.\u001b[39mnn\u001b[39m.\u001b[39mfunctional\u001b[39m.\u001b[39mnormalize(a, p\u001b[39m=\u001b[39m\u001b[39m2\u001b[39m, dim\u001b[39m=\u001b[39m\u001b[39m1\u001b[39m)\n\u001b[0;32m     48\u001b[0m b_norm \u001b[39m=\u001b[39m torch\u001b[39m.\u001b[39mnn\u001b[39m.\u001b[39mfunctional\u001b[39m.\u001b[39mnormalize(b, p\u001b[39m=\u001b[39m\u001b[39m2\u001b[39m, dim\u001b[39m=\u001b[39m\u001b[39m1\u001b[39m)\n\u001b[1;32m---> 49\u001b[0m \u001b[39mreturn\u001b[39;00m torch\u001b[39m.\u001b[39;49mmm(a_norm, b_norm\u001b[39m.\u001b[39;49mtranspose(\u001b[39m0\u001b[39;49m, \u001b[39m1\u001b[39;49m))\n",
      "\u001b[1;31mRuntimeError\u001b[0m: self must be a matrix"
     ]
    }
   ],
   "source": [
    "import cv2\n",
    "from torch.utils.data import Dataset, DataLoader\n",
    "from albumentations.pytorch.transforms import ToTensorV2\n",
    "from glob import glob\n",
    "from tqdm.auto import tqdm\n",
    "\n",
    "class CustomDataset(Dataset):\n",
    "    def __init__(self, img_path_list, label_list, transforms=None):\n",
    "        self.img_path_list = img_path_list\n",
    "        self.label_list = label_list\n",
    "        self.transforms = transforms\n",
    "        \n",
    "    def __getitem__(self, index):\n",
    "        img_path = self.img_path_list[index]\n",
    "        \n",
    "        image = cv2.imread(img_path)\n",
    "        image = cv2.cvtColor(image, cv2.COLOR_BGR2RGB)\n",
    "        \n",
    "        if self.transforms is not None:\n",
    "            image = self.transforms(image=image)['image']\n",
    "        \n",
    "        if self.label_list is not None:\n",
    "            label = torch.FloatTensor(self.label_list[index])\n",
    "            return image, label\n",
    "        else:\n",
    "            return image\n",
    "        \n",
    "    def __len__(self):\n",
    "        return len(self.img_path_list)\n",
    "\n",
    "folder_list = list(map(lambda x: x.split('\\\\')[-1], glob(\"./data/*\")))\n",
    "device = torch.device('cuda') if torch.cuda.is_available() else torch.device('cpu')\n",
    "model = torch.load(\"./comic_165label.pth\")\n",
    "newmodel = EfficientV2Backbone(model)\n",
    "features_dic = {}\n",
    "img1 = sorted(glob(f\"./data/N_15439/*.jpg\"))[1:]\n",
    "img2 = sorted(glob(f\"./data/N_15441/*.jpg\"))[1:]\n",
    "\n",
    "test_transform = A.Compose([A.Resize(480, 480),\n",
    "                                    A.Normalize(mean=(0.485, 0.456, 0.406), std=(0.229, 0.224, 0.225), max_pixel_value=255.0, always_apply=False, p=1.0),\n",
    "                                    ToTensorV2()])\n",
    "test_dataset1 = CustomDataset(img1, None, test_transform)\n",
    "test_loader1 = DataLoader(test_dataset1, batch_size = 16, shuffle=False)\n",
    "test_dataset2 = CustomDataset(img2, None, test_transform)\n",
    "test_loader2 = DataLoader(test_dataset2, batch_size = 16, shuffle=False)\n",
    "\n",
    "preds1 = infer(newmodel, test_loader1, device)\n",
    "preds2 = infer(newmodel, test_loader2, device)\n",
    "\n",
    "sim = find_sim(preds1,preds2)\n",
    "\"\"\"\n",
    "for folder in tqdm(folder_list):\n",
    "    img = sorted(glob(f\"./data/{folder}/*.jpg\"))[1:]\n",
    "    test_transform = A.Compose([A.Resize(480, 480),\n",
    "                                        A.Normalize(mean=(0.485, 0.456, 0.406), std=(0.229, 0.224, 0.225), max_pixel_value=255.0, always_apply=False, p=1.0),\n",
    "                                        ToTensorV2()])\n",
    "    test_dataset = CustomDataset(img, None, test_transform)\n",
    "    test_loader = DataLoader(test_dataset, batch_size = 16, shuffle=False)\n",
    "    preds = infer(newmodel, test_loader, device)\n",
    "    features_dic[folder] = preds\n",
    "\"\"\""
   ]
  },
  {
   "cell_type": "code",
   "execution_count": null,
   "metadata": {},
   "outputs": [],
   "source": [
    "print(preds1)"
   ]
  },
  {
   "cell_type": "code",
   "execution_count": null,
   "metadata": {},
   "outputs": [],
   "source": [
    "\n",
    "\n",
    "class CustomDataset(Dataset):\n",
    "    def __init__(self, img_path_list, label_list,transform):\n",
    "        self.img_path_list = img_path_list\n",
    "        self.label_list = label_list\n",
    "        \n",
    "    def __getitem__(self, index):\n",
    "        img_path = self.img_path_list[index]\n",
    "        \n",
    "        image = cv2.imread(img_path)\n",
    "        image = cv2.cvtColor(image, cv2.COLOR_BGR2RGB)\n",
    "        \n",
    "        \n",
    "        return ToTensorV2(image)\n",
    "        \n",
    "    def __len__(self):\n",
    "        return len(self.img_path_list)\n"
   ]
  },
  {
   "cell_type": "code",
   "execution_count": null,
   "metadata": {},
   "outputs": [],
   "source": []
  },
  {
   "cell_type": "code",
   "execution_count": null,
   "metadata": {},
   "outputs": [],
   "source": [
    "import glob\n",
    "folder_list = list(map(lambda x: x.split('\\\\')[-1], glob(\"./data/*\")))"
   ]
  },
  {
   "cell_type": "code",
   "execution_count": null,
   "metadata": {},
   "outputs": [],
   "source": []
  }
 ],
 "metadata": {
  "kernelspec": {
   "display_name": "webvenv",
   "language": "python",
   "name": "python3"
  },
  "language_info": {
   "codemirror_mode": {
    "name": "ipython",
    "version": 3
   },
   "file_extension": ".py",
   "mimetype": "text/x-python",
   "name": "python",
   "nbconvert_exporter": "python",
   "pygments_lexer": "ipython3",
   "version": "3.10.7"
  },
  "orig_nbformat": 4,
  "vscode": {
   "interpreter": {
    "hash": "1e5f22dead955f85ea3c832f296e74619eb9a0b22586504fe0dd978ed0fdd447"
   }
  }
 },
 "nbformat": 4,
 "nbformat_minor": 2
}
